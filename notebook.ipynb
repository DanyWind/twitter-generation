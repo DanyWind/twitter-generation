{
  "nbformat": 4,
  "nbformat_minor": 0,
  "metadata": {
    "colab": {
      "name": "Untitled2.ipynb",
      "version": "0.3.2",
      "provenance": [],
      "include_colab_link": true
    },
    "kernelspec": {
      "name": "python3",
      "display_name": "Python 3"
    }
  },
  "cells": [
    {
      "cell_type": "markdown",
      "metadata": {
        "id": "view-in-github",
        "colab_type": "text"
      },
      "source": [
        "<a href=\"https://colab.research.google.com/github/DanyWind/twitter-generation/blob/master/notebook.ipynb\" target=\"_parent\"><img src=\"https://colab.research.google.com/assets/colab-badge.svg\" alt=\"Open In Colab\"/></a>"
      ]
    },
    {
      "metadata": {
        "id": "FcdDea4nnO3u",
        "colab_type": "code",
        "colab": {}
      },
      "cell_type": "code",
      "source": [
        "import re\n",
        "from requests_html import HTMLSession, HTML\n",
        "from datetime import datetime\n",
        "\n",
        "session = HTMLSession()\n",
        "\n",
        "def get_tweets(user, pages=25):\n",
        "    \"\"\"Gets tweets for a given user, via the Twitter frontend API.\"\"\"\n",
        "\n",
        "    url = f'https://twitter.com/i/profiles/show/{user}/timeline/tweets?include_available_features=1&include_entities=1&include_new_items_bar=true'\n",
        "    headers = {\n",
        "        'Accept': 'application/json, text/javascript, */*; q=0.01',\n",
        "        'Referer': f'https://twitter.com/{user}',\n",
        "        'User-Agent': 'Mozilla/5.0 (Macintosh; Intel Mac OS X 10_12_6) AppleWebKit/603.3.8 (KHTML, like Gecko) Version/10.1.2 Safari/603.3.8',\n",
        "        'X-Twitter-Active-User': 'yes',\n",
        "        'X-Requested-With': 'XMLHttpRequest'\n",
        "}"
      ],
      "execution_count": 0,
      "outputs": []
    }
  ]
}